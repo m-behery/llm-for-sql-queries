{
 "cells": [
  {
   "cell_type": "code",
   "execution_count": 1,
   "id": "2f4abdf6-cfdc-4c34-8e9a-83dfc2e81fd8",
   "metadata": {},
   "outputs": [
    {
     "name": "stdout",
     "output_type": "stream",
     "text": [
      "Downloading from https://www.kaggle.com/api/v1/datasets/download/gastonsaracusti/model-car-mint-classics?dataset_version_number=2...\n",
      "100%|███████████████████████████████████████| 26.0k/26.0k [00:00<00:00, 498kB/s]\n",
      "Extracting files...\n",
      "\n",
      "Dataset downloaded to:\n",
      "\"/home/mohamed/.cache/kagglehub/datasets/gastonsaracusti/model-car-mint-classics/versions/2\"\n",
      "\n",
      "Dataset moved to:\n",
      "\"/home/mohamed/Projects/llm-for-sql-queries/data/gastonsaracusti/model-car-mint-classics\"\n",
      "\n",
      "Database File:\n",
      "\"/home/mohamed/Projects/llm-for-sql-queries/data/gastonsaracusti/model-car-mint-classics/data.sqlite\"\n",
      "\n",
      "Process exited with status code: 0\n"
     ]
    }
   ],
   "source": [
    "# Example SQLite dataset downloaded externally --BONUS for demonstrating system flexibility with undetermined schemas\n",
    "!python kaggle_database_downloader.py \"gastonsaracusti/model-car-mint-classics\""
   ]
  },
  {
   "cell_type": "code",
   "execution_count": 2,
   "id": "ffab11cd-3343-45e8-8454-1c4bdaa14f92",
   "metadata": {},
   "outputs": [
    {
     "name": "stdout",
     "output_type": "stream",
     "text": [
      "Database created successfully!\n",
      "\n",
      "Database File:\n",
      "/home/mohamed/Projects/llm-for-sql-queries/data/aayman/asap-database-template/data.sqlite\n"
     ]
    }
   ],
   "source": [
    "# Database creator through the template given by ASAP Systems for Barcloud\n",
    "!python asap_database_creator.py \"aayman/asap-database-template\" \"./script.sql\""
   ]
  },
  {
   "cell_type": "code",
   "execution_count": 3,
   "id": "7c3c0d3c-920e-4cfd-bdfb-77eba4ae7751",
   "metadata": {},
   "outputs": [
    {
     "name": "stdout",
     "output_type": "stream",
     "text": [
      "CREATE TABLE Customers (\n",
      "    CustomerId INTEGER PRIMARY KEY AUTOINCREMENT,\n",
      "    CustomerCode VARCHAR(50) UNIQUE NOT NULL,\n",
      "    CustomerName TEXT NOT NULL,\n",
      "    Email TEXT NULL,\n",
      "    Phone TEXT NULL,\n",
      "    BillingAddress1 TEXT NULL,\n",
      "    BillingCity TEXT NULL,\n",
      "    BillingCountry TEXT NULL,\n",
      "    CreatedAt DATETIME NOT NULL DEFAULT (datetime('now')),\n",
      "    UpdatedAt DATETIME NULL,\n",
      "    IsActive BOOLEAN NOT NULL DEFAULT 1\n",
      ")\n",
      "CREATE TABLE sqlite_sequence(name,seq)\n",
      "CREATE TABLE Vendors (\n",
      "    VendorId INTEGER PRIMARY KEY AUTOINCREMENT,\n",
      "    VendorCode VARCHAR(50) UNIQUE NOT NULL,\n",
      "    VendorName TEXT NOT NULL,\n",
      "    Email TEXT NULL,\n",
      "    Phone TEXT NULL,\n",
      "    AddressLine1 TEXT NULL,\n",
      "    City TEXT NULL,\n",
      "    Country TEXT NULL,\n",
      "    CreatedAt DATETIME NOT NULL DEFAULT (datetime('now')),\n",
      "    UpdatedAt DATETIME NULL,\n",
      "    IsActive BOOLEAN NOT NULL DEFAULT 1\n",
      ")\n",
      "CREATE TABLE Sites (\n",
      "    SiteId INTEGER PRIMARY KEY AUTOINCREMENT,\n",
      "    SiteCode VARCHAR(50) UNIQUE NOT NULL,\n",
      "    SiteName TEXT NOT NULL,\n",
      "    AddressLine1 TEXT NULL,\n",
      "    City TEXT NULL,\n",
      "    Country TEXT NULL,\n",
      "    TimeZone TEXT NULL,\n",
      "    CreatedAt DATETIME NOT NULL DEFAULT (datetime('now')),\n",
      "    UpdatedAt DATETIME NULL,\n",
      "    IsActive BOOLEAN NOT NULL DEFAULT 1\n",
      ")\n",
      "CREATE TABLE Locations (\n",
      "    LocationId INTEGER PRIMARY KEY AUTOINCREMENT,\n",
      "    SiteId INTEGER NOT NULL,\n",
      "    LocationCode VARCHAR(50) NOT NULL,\n",
      "    LocationName TEXT NOT NULL,\n",
      "    ParentLocationId INTEGER NULL,\n",
      "    CreatedAt DATETIME NOT NULL DEFAULT (datetime('now')),\n",
      "    UpdatedAt DATETIME NULL,\n",
      "    IsActive BOOLEAN NOT NULL DEFAULT 1,\n",
      "    UNIQUE (SiteId, LocationCode),\n",
      "    FOREIGN KEY (SiteId) REFERENCES Sites(SiteId),\n",
      "    FOREIGN KEY (ParentLocationId) REFERENCES Locations(LocationId)\n",
      ")\n",
      "CREATE TABLE Items (\n",
      "    ItemId INTEGER PRIMARY KEY AUTOINCREMENT,\n",
      "    ItemCode TEXT UNIQUE NOT NULL,\n",
      "    ItemName TEXT NOT NULL,\n",
      "    Category TEXT NULL,\n",
      "    UnitOfMeasure TEXT NULL,\n",
      "    CreatedAt DATETIME NOT NULL DEFAULT (datetime('now')),\n",
      "    UpdatedAt DATETIME NULL,\n",
      "    IsActive BOOLEAN NOT NULL DEFAULT 1\n",
      ")\n",
      "CREATE TABLE Assets (\n",
      "    AssetId INTEGER PRIMARY KEY AUTOINCREMENT,\n",
      "    AssetTag VARCHAR(100) UNIQUE NOT NULL,\n",
      "    AssetName TEXT NOT NULL,\n",
      "    SiteId INTEGER NOT NULL,\n",
      "    LocationId INTEGER NULL,\n",
      "    SerialNumber TEXT NULL,\n",
      "    Category TEXT NULL,\n",
      "    Status VARCHAR(30) NOT NULL DEFAULT 'Active', -- Active, InRepair, Disposed\n",
      "    Cost DECIMAL(18,2) NULL,\n",
      "    PurchaseDate DATE NULL,\n",
      "    VendorId INTEGER NULL,\n",
      "    CreatedAt DATETIME NOT NULL DEFAULT (datetime('now')),\n",
      "    UpdatedAt DATETIME NULL,\n",
      "    FOREIGN KEY (SiteId) REFERENCES Sites(SiteId),\n",
      "    FOREIGN KEY (LocationId) REFERENCES Locations(LocationId),\n",
      "    FOREIGN KEY (VendorId) REFERENCES Vendors(VendorId)\n",
      ")\n",
      "CREATE TABLE Bills (\n",
      "    BillId INTEGER PRIMARY KEY AUTOINCREMENT,\n",
      "    VendorId INTEGER NOT NULL,\n",
      "    BillNumber VARCHAR(100) NOT NULL,\n",
      "    BillDate DATE NOT NULL,\n",
      "    DueDate DATE NULL,\n",
      "    TotalAmount DECIMAL(18,2) NOT NULL,\n",
      "    Currency VARCHAR(10) NOT NULL DEFAULT 'USD',\n",
      "    Status VARCHAR(30) NOT NULL DEFAULT 'Open', -- Open, Paid, Void\n",
      "    CreatedAt DATETIME NOT NULL DEFAULT (datetime('now')),\n",
      "    UpdatedAt DATETIME NULL,\n",
      "    UNIQUE (VendorId, BillNumber),\n",
      "    FOREIGN KEY (VendorId) REFERENCES Vendors(VendorId)\n",
      ")\n",
      "CREATE TABLE PurchaseOrders (\n",
      "    POId INTEGER PRIMARY KEY AUTOINCREMENT,\n",
      "    PONumber VARCHAR(100) NOT NULL,\n",
      "    VendorId INTEGER NOT NULL,\n",
      "    PODate DATE NOT NULL,\n",
      "    Status VARCHAR(30) NOT NULL DEFAULT 'Open', -- Open, Approved, Closed, Cancelled\n",
      "    SiteId INTEGER NULL,\n",
      "    CreatedAt DATETIME NOT NULL DEFAULT (datetime('now')),\n",
      "    UpdatedAt DATETIME NULL,\n",
      "    UNIQUE (PONumber),\n",
      "    FOREIGN KEY (VendorId) REFERENCES Vendors(VendorId),\n",
      "    FOREIGN KEY (SiteId) REFERENCES Sites(SiteId)\n",
      ")\n",
      "CREATE TABLE PurchaseOrderLines (\n",
      "    POLineId INTEGER PRIMARY KEY AUTOINCREMENT,\n",
      "    POId INTEGER NOT NULL,\n",
      "    LineNumber INTEGER NOT NULL,\n",
      "    ItemId INTEGER NULL,\n",
      "    ItemCode TEXT NOT NULL,\n",
      "    Description TEXT NULL,\n",
      "    Quantity DECIMAL(18,4) NOT NULL,\n",
      "    UnitPrice DECIMAL(18,4) NOT NULL,\n",
      "    UNIQUE (POId, LineNumber),\n",
      "    FOREIGN KEY (POId) REFERENCES PurchaseOrders(POId),\n",
      "    FOREIGN KEY (ItemId) REFERENCES Items(ItemId)\n",
      ")\n",
      "CREATE TABLE SalesOrders (\n",
      "    SOId INTEGER PRIMARY KEY AUTOINCREMENT,\n",
      "    SONumber VARCHAR(100) NOT NULL,\n",
      "    CustomerId INTEGER NOT NULL,\n",
      "    SODate DATE NOT NULL,\n",
      "    Status VARCHAR(30) NOT NULL DEFAULT 'Open', -- Open, Shipped, Closed, Cancelled\n",
      "    SiteId INTEGER NULL,\n",
      "    CreatedAt DATETIME NOT NULL DEFAULT (datetime('now')),\n",
      "    UpdatedAt DATETIME NULL,\n",
      "    UNIQUE (SONumber),\n",
      "    FOREIGN KEY (CustomerId) REFERENCES Customers(CustomerId),\n",
      "    FOREIGN KEY (SiteId) REFERENCES Sites(SiteId)\n",
      ")\n",
      "CREATE TABLE SalesOrderLines (\n",
      "    SOLineId INTEGER PRIMARY KEY AUTOINCREMENT,\n",
      "    SOId INTEGER NOT NULL,\n",
      "    LineNumber INTEGER NOT NULL,\n",
      "    ItemId INTEGER NULL,\n",
      "    ItemCode TEXT NOT NULL,\n",
      "    Description TEXT NULL,\n",
      "    Quantity DECIMAL(18,4) NOT NULL,\n",
      "    UnitPrice DECIMAL(18,4) NOT NULL,\n",
      "    UNIQUE (SOId, LineNumber),\n",
      "    FOREIGN KEY (SOId) REFERENCES SalesOrders(SOId),\n",
      "    FOREIGN KEY (ItemId) REFERENCES Items(ItemId)\n",
      ")\n",
      "CREATE TABLE AssetTransactions (\n",
      "    AssetTxnId INTEGER PRIMARY KEY AUTOINCREMENT,\n",
      "    AssetId INTEGER NOT NULL,\n",
      "    FromLocationId INTEGER NULL,\n",
      "    ToLocationId INTEGER NULL,\n",
      "    TxnType VARCHAR(30) NOT NULL, -- Move, Adjust, Dispose, Create\n",
      "    Quantity INTEGER NOT NULL DEFAULT 1,\n",
      "    TxnDate DATETIME NOT NULL DEFAULT (datetime('now')),\n",
      "    Note TEXT NULL,\n",
      "    FOREIGN KEY (AssetId) REFERENCES Assets(AssetId),\n",
      "    FOREIGN KEY (FromLocationId) REFERENCES Locations(LocationId),\n",
      "    FOREIGN KEY (ToLocationId) REFERENCES Locations(LocationId)\n",
      ")\n"
     ]
    }
   ],
   "source": [
    "import sqlite3\n",
    "\n",
    "DB_FILEPATH = '/home/mohamed/Projects/llm-for-sql-queries/data/aayman/asap-database-template/data.sqlite'\n",
    "\n",
    "def get_sqlite_schema(db_filepath):\n",
    "    try:\n",
    "        conn = sqlite3.connect(DB_FILEPATH)\n",
    "        cursor = conn.cursor()\n",
    "        cursor.execute('SELECT sql FROM sqlite_master WHERE type=\"table\";')\n",
    "        rows = cursor.fetchall()\n",
    "    finally:\n",
    "        conn.close()\n",
    "    create_table_cmds = list(zip(*rows))[0]\n",
    "    db_schema = '\\n'.join(create_table_cmds)\n",
    "    return db_schema\n",
    "\n",
    "db_schema = get_sqlite_schema(DB_FILEPATH)\n",
    "print(db_schema)"
   ]
  },
  {
   "cell_type": "code",
   "execution_count": 13,
   "id": "bac2ebba-48cf-4949-a13b-340e7bac6653",
   "metadata": {},
   "outputs": [],
   "source": [
    "import keyring\n",
    "from openai import OpenAI\n",
    "\n",
    "openai = OpenAI(\n",
    "    api_key = keyring.get_password('openai', 'default')\n",
    ")\n",
    "\n",
    "messages = []\n",
    "\n",
    "response = openai.chat.completions.create"
   ]
  },
  {
   "cell_type": "code",
   "execution_count": 16,
   "id": "f2851117-a044-469c-a37a-d81a3492cddf",
   "metadata": {},
   "outputs": [
    {
     "data": {
      "text/plain": [
       "Response(id='resp_06f4ad5fab80dda00168dd40c3c07c819588ea3aa54ffe623b', created_at=1759330500.0, error=None, incomplete_details=None, instructions=None, metadata={}, model='gpt-4o-mini-2024-07-18', object='response', output=[ResponseOutputMessage(id='msg_06f4ad5fab80dda00168dd40c4c3988195a30e39a7dd93bdad', content=[ResponseOutputText(annotations=[], text=\"Hello! I'm doing well, thanks for asking. How about you?\", type='output_text', logprobs=[])], role='assistant', status='completed', type='message')], parallel_tool_calls=True, temperature=1.0, tool_choice='auto', tools=[], top_p=1.0, background=False, max_output_tokens=None, max_tool_calls=None, previous_response_id=None, prompt=None, prompt_cache_key=None, reasoning=Reasoning(effort=None, generate_summary=None, summary=None), safety_identifier=None, service_tier='default', status='completed', text=ResponseTextConfig(format=ResponseFormatText(type='text'), verbosity='medium'), top_logprobs=0, truncation='disabled', usage=ResponseUsage(input_tokens=13, input_tokens_details=InputTokensDetails(cached_tokens=0), output_tokens=15, output_tokens_details=OutputTokensDetails(reasoning_tokens=0), total_tokens=28), user=None, billing={'payer': 'developer'}, store=False)"
      ]
     },
     "execution_count": 16,
     "metadata": {},
     "output_type": "execute_result"
    }
   ],
   "source": [
    "response"
   ]
  },
  {
   "cell_type": "code",
   "execution_count": 19,
   "id": "934f3222-51b2-4c02-aefc-e0828d11db5c",
   "metadata": {},
   "outputs": [
    {
     "data": {
      "text/plain": [
       "(28, 13, 15)"
      ]
     },
     "execution_count": 19,
     "metadata": {},
     "output_type": "execute_result"
    }
   ],
   "source": [
    "response.usage.total_tokens, response.usage.input_tokens, response.usage.output_tokens"
   ]
  },
  {
   "cell_type": "code",
   "execution_count": 12,
   "id": "ae1a2571-91f5-4cdf-b42e-0fd8d6e4e18c",
   "metadata": {},
   "outputs": [
    {
     "ename": "NameError",
     "evalue": "name 'response' is not defined",
     "output_type": "error",
     "traceback": [
      "\u001b[0;31m---------------------------------------------------------------------------\u001b[0m",
      "\u001b[0;31mNameError\u001b[0m                                 Traceback (most recent call last)",
      "Cell \u001b[0;32mIn[12], line 1\u001b[0m\n\u001b[0;32m----> 1\u001b[0m \u001b[43mresponse\u001b[49m\u001b[38;5;241m.\u001b[39moutput_text\n",
      "\u001b[0;31mNameError\u001b[0m: name 'response' is not defined"
     ]
    }
   ],
   "source": [
    "response.output_text"
   ]
  }
 ],
 "metadata": {
  "kernelspec": {
   "display_name": "Python 3 (ipykernel)",
   "language": "python",
   "name": "python3"
  },
  "language_info": {
   "codemirror_mode": {
    "name": "ipython",
    "version": 3
   },
   "file_extension": ".py",
   "mimetype": "text/x-python",
   "name": "python",
   "nbconvert_exporter": "python",
   "pygments_lexer": "ipython3",
   "version": "3.13.7"
  }
 },
 "nbformat": 4,
 "nbformat_minor": 5
}
