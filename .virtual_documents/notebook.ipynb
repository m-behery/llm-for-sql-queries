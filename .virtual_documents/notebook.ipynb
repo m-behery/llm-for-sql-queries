# Example SQLite dataset downloaded externally -- OPTIONAL for demonstrating system flexibility with undetermined schemas
!python kaggle_dataset_downloader.py "gastonsaracusti/model-car-mint-classics"


# Database creator that uses the template given by ASAP Systems i.e. "script.sql"
!python database_creator.py "aayman/asap-database-template" "./sql_scripts/script.sql"


!python main.py "/home/mohamed/Projects/llm-for-sql-queries/data/aayman/asap-database-template/data.sqlite"
