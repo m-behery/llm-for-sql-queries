# Example SQLite dataset downloaded externally --BONUS for demonstrating system flexibility with undetermined schemas
!python kaggle_database_downloader.py "gastonsaracusti/model-car-mint-classics"


# Database creator through the template given by ASAP Systems for Barcloud
!python asap_database_creator.py "aayman/asap-database-template" "./script.sql"


from utils import Timer, read_task_template
from chatbots import OpenAIChatBot
from http_methods import Server, RequestHandler
from constants import ENVIRONMENT, FILEPATHS, CONNECTION_PARAMS
import socket

from pyngrok import ngrok

chatbot = OpenAIChatBot(
    api_key    = ENVIRONMENT.OPENAI_API_KEY,
    model      = ENVIRONMENT.MODEL_NAME,
    db_filepath = FILEPATHS.DATABASE,
)

server = Server((CONNECTION_PARAMS.HOST, CONNECTION_PARAMS.PORT), RequestHandler, chatbot)
server.serve_forever()
