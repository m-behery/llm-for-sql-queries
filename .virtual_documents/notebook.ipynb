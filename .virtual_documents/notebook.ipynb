# Example SQLite dataset downloaded externally --BONUS for demonstrating system flexibility with undetermined schemas
!python kaggle_database_downloader.py "gastonsaracusti/model-car-mint-classics"


# Database creator through the template given by ASAP Systems for Barcloud
!python asap_database_creator.py "aayman/asap-database-template" "./sql_scripts/script.sql"


!python main.py "/home/mohamed/Projects/llm-for-sql-queries/data/aayman/asap-database-template/data.sqlite"
