{
 "cells": [
  {
   "cell_type": "code",
   "execution_count": 1,
   "id": "2f4abdf6-cfdc-4c34-8e9a-83dfc2e81fd8",
   "metadata": {},
   "outputs": [
    {
     "name": "stdout",
     "output_type": "stream",
     "text": [
      "Downloading from https://www.kaggle.com/api/v1/datasets/download/gastonsaracusti/model-car-mint-classics?dataset_version_number=2...\n",
      "100%|███████████████████████████████████████| 26.0k/26.0k [00:00<00:00, 371kB/s]\n",
      "Extracting files...\n",
      "\n",
      "Dataset downloaded to:\n",
      "\"/home/mohamed/.cache/kagglehub/datasets/gastonsaracusti/model-car-mint-classics/versions/2\"\n",
      "\n",
      "Dataset moved to:\n",
      "\"/home/mohamed/Projects/llm-for-sql-queries/data/gastonsaracusti/model-car-mint-classics\"\n",
      "\n",
      "Database File:\n",
      "\"/home/mohamed/Projects/llm-for-sql-queries/data/gastonsaracusti/model-car-mint-classics/data.sqlite\"\n",
      "\n",
      "Process exited with status code: 0\n"
     ]
    }
   ],
   "source": [
    "# Example SQLite dataset downloaded externally --BONUS for demonstrating system flexibility with undetermined schemas\n",
    "!python kaggle_database_downloader.py \"gastonsaracusti/model-car-mint-classics\""
   ]
  },
  {
   "cell_type": "code",
   "execution_count": 2,
   "id": "ffab11cd-3343-45e8-8454-1c4bdaa14f92",
   "metadata": {},
   "outputs": [
    {
     "name": "stdout",
     "output_type": "stream",
     "text": [
      "Database created successfully!\n",
      "\n",
      "Database File:\n",
      "/home/mohamed/Projects/llm-for-sql-queries/data/aayman/asap-database-template/data.sqlite\n"
     ]
    }
   ],
   "source": [
    "# Database creator through the template given by ASAP Systems for Barcloud\n",
    "!python asap_database_creator.py \"aayman/asap-database-template\" \"./script.sql\""
   ]
  },
  {
   "cell_type": "code",
   "execution_count": 3,
   "id": "d83b07c6-3960-43d2-83c6-468e89321e32",
   "metadata": {},
   "outputs": [],
   "source": [
    "from http.server import HTTPServer, BaseHTTPRequestHandler\n",
    "import sqlite3\n",
    "import keyring\n",
    "from openai import OpenAI\n",
    "from string import Template\n",
    "import os\n",
    "import logging\n",
    "from time import time\n",
    "import re\n",
    "import json\n",
    "\n",
    "DB_FILEPATH = '/home/mohamed/Projects/llm-for-sql-queries/data/aayman/asap-database-template/data.sqlite'\n",
    "LLM_TASK_TEMPLATE_FILEPATH = os.path.abspath('./llm_task_template.md')\n",
    "MODEL_NAME = 'gpt-4o-mini'\n",
    "PROVIDER = 'openai'\n",
    "\n",
    "class Helper:\n",
    "\n",
    "    def __new__(self):\n",
    "        raise NotImplementedError('This class is meant to be static, it cannot be instantiated.')\n",
    "    \n",
    "    @staticmethod\n",
    "    def read_task_template(filepath):\n",
    "        try:\n",
    "            file = open(filepath)\n",
    "            return file.read()\n",
    "        except FileNotFoundError:\n",
    "            message = 'LLM task description template not found!'\n",
    "            logging.exception(message)\n",
    "            print(f'{message}\\nKindly check the error logs for traceback details.')\n",
    "        finally:\n",
    "            file.close()\n",
    "\n",
    "\n",
    "class Timer:\n",
    "    \n",
    "    def __enter__(self):\n",
    "        self._start = self._time_ms()\n",
    "        return self\n",
    "    \n",
    "    def __exit__(self, *args):\n",
    "        self._elapsed = self._time_ms() - self._start\n",
    "\n",
    "    def _time_ms(self):\n",
    "        return round(1e3 * time())\n",
    "    \n",
    "    @property\n",
    "    def start(self):\n",
    "        return self._start\n",
    "    \n",
    "    @property\n",
    "    def elapsed(self):\n",
    "        return self._elapsed\n",
    "\n",
    "\n",
    "class OpenAIChatBot:\n",
    "    \n",
    "    LLM_TASK_TEMPLATE = Helper.read_task_template(LLM_TASK_TEMPLATE_FILEPATH)\n",
    "    \n",
    "    def __init__(self, api_key, model, db_filepath):\n",
    "        self._client    = OpenAI(api_key=api_key)\n",
    "        self._model     = model\n",
    "        self.db_filepath = db_filepath\n",
    "    \n",
    "    @property\n",
    "    def client(self):\n",
    "        return self._client\n",
    "    \n",
    "    @property\n",
    "    def model(self):\n",
    "        return self._model\n",
    "    \n",
    "    @property\n",
    "    def db_filepath(self):\n",
    "        return self._db_filepath\n",
    "    \n",
    "    @db_filepath.setter\n",
    "    def db_filepath(self, value: str):\n",
    "        self._db_filepath = value\n",
    "        self.db_schema   = self._extract_db_schema(value)\n",
    "    \n",
    "    @property\n",
    "    def db_schema(self):\n",
    "        return self._db_schema\n",
    "    \n",
    "    @db_schema.setter\n",
    "    def db_schema(self, value: str):\n",
    "        self._db_schema = value\n",
    "        self._chat_history = [\n",
    "            {'role': 'system', 'content': Template(self.LLM_TASK_TEMPLATE).substitute({'db_schema': value}) }\n",
    "        ]\n",
    "\n",
    "    @property\n",
    "    def chat_history(self):\n",
    "        return self._chat_history\n",
    "    \n",
    "    def send(self, user_query):\n",
    "        self._chat_history.append({'role': 'user', 'content': user_query})\n",
    "        response_details = {'provider': PROVIDER}\n",
    "        try:\n",
    "            with Timer() as t:\n",
    "                response = self._client.chat.completions.create(model=self._model, messages=self._chat_history)\n",
    "            self._chat_history.append({'role': 'system', 'content': response.choices[0].message.content})\n",
    "            response_details = self._extract_response_details(response)\n",
    "            response_details.update({\n",
    "                'latency_ms': t.elapsed,\n",
    "                'status': 'ok',\n",
    "            })\n",
    "        except:\n",
    "            logging.exception('Fatal Error.\\nKindly check the error logs for traceback details.')\n",
    "            response_details.update({\n",
    "                'model': self._model,\n",
    "                'status': 'error',\n",
    "            })\n",
    "        return response_details\n",
    "    \n",
    "    @staticmethod\n",
    "    def _extract_response_details(response):\n",
    "        details = json.loads(re.sub(r'```(json)?', '', response.choices[0].message.content))\n",
    "        details.update({\n",
    "            'token_usage': {\n",
    "                'prompt_tokens': response.usage.prompt_tokens,\n",
    "                'completion_tokens': response.usage.completion_tokens,\n",
    "                'total_tokens': response.usage.total_tokens,\n",
    "            },\n",
    "            'model': response.model,\n",
    "        })\n",
    "        return details\n",
    "    \n",
    "    @staticmethod\n",
    "    def _extract_db_schema(db_filepath: str):\n",
    "        try:\n",
    "            conn = sqlite3.connect(DB_FILEPATH)\n",
    "            cursor = conn.cursor()\n",
    "            cursor.execute('SELECT sql FROM sqlite_master WHERE type=\"table\";')\n",
    "            rows = cursor.fetchall()\n",
    "        finally:\n",
    "            conn.close()\n",
    "        create_table_cmds = list(zip(*rows))[0]\n",
    "        db_schema = '\\n'.join(create_table_cmds)\n",
    "        return db_schema"
   ]
  },
  {
   "cell_type": "code",
   "execution_count": 4,
   "id": "737eb529-9b3a-406e-9527-396c02b2138e",
   "metadata": {},
   "outputs": [],
   "source": [
    "chatbot = OpenAIChatBot(\n",
    "    api_key    = keyring.get_password('openai', 'default'),\n",
    "    model      = MODEL_NAME,\n",
    "    db_filepath = DB_FILEPATH,\n",
    ")\n",
    "\n",
    "response_details = chatbot.send('What is the total billed amount for the last quarter?')"
   ]
  },
  {
   "cell_type": "code",
   "execution_count": 5,
   "id": "2ebcdf93-f303-4a89-94fb-72e929625609",
   "metadata": {},
   "outputs": [
    {
     "data": {
      "text/plain": [
       "{'Answer': 'The total billed amount for the last quarter has been calculated.',\n",
       " 'SQL': \"SELECT SUM(TotalAmount) AS TotalBilledAmount\\nFROM Bills\\nWHERE BillDate >= DATE('now', 'start of quarter', '-3 months') AND BillDate < DATE('now', 'start of quarter');\",\n",
       " 'token_usage': {'prompt_tokens': 1624,\n",
       "  'completion_tokens': 74,\n",
       "  'total_tokens': 1698},\n",
       " 'model': 'gpt-4o-mini-2024-07-18',\n",
       " 'latency_ms': 1792,\n",
       " 'status': 'ok'}"
      ]
     },
     "execution_count": 5,
     "metadata": {},
     "output_type": "execute_result"
    }
   ],
   "source": [
    "response_details"
   ]
  },
  {
   "cell_type": "code",
   "execution_count": 8,
   "id": "a1d4d0b7-a5a7-4c21-a4ee-63945bd53206",
   "metadata": {},
   "outputs": [
    {
     "data": {
      "text/plain": [
       "{'Answer': 'Here are the vendors sorted by the number of assets they supplied.',\n",
       " 'SQL': \"SELECT v.VendorName, COUNT(a.AssetId) AS AssetCount\\nFROM Vendors v\\nJOIN Assets a ON v.VendorId = a.VendorId\\nWHERE a.Status <> 'Disposed'\\nGROUP BY v.VendorId, v.VendorName\\nORDER BY AssetCount DESC;\",\n",
       " 'token_usage': {'prompt_tokens': 1713,\n",
       "  'completion_tokens': 88,\n",
       "  'total_tokens': 1801},\n",
       " 'model': 'gpt-4o-mini-2024-07-18',\n",
       " 'latency_ms': 2098,\n",
       " 'status': 'ok'}"
      ]
     },
     "execution_count": 8,
     "metadata": {},
     "output_type": "execute_result"
    }
   ],
   "source": [
    "response_details = chatbot.send('Which vendor supplied the most assets?')\n",
    "response_details"
   ]
  },
  {
   "cell_type": "code",
   "execution_count": 9,
   "id": "4a6a3e8c-dbbe-4174-98ef-e45bfb113bb1",
   "metadata": {
    "collapsed": true,
    "jupyter": {
     "outputs_hidden": true
    }
   },
   "outputs": [
    {
     "data": {
      "text/plain": [
       "[{'role': 'system',\n",
       "  'content': 'TASK:\\n------\\nYou are a SQLite transliterator. \\\\\\nGiven the following SQLite SCHEMA, I\\'d \\\\\\nlike you to transliterate any subsequent \\\\\\nuser query (given in natural language) \\\\\\nabout the dataset into an SQLite query \\\\\\nfor fetching the answer from its database.\\n\\n---\\n\\nSCHEMA:\\n--------\\nCREATE TABLE Customers (\\n    CustomerId INTEGER PRIMARY KEY AUTOINCREMENT,\\n    CustomerCode VARCHAR(50) UNIQUE NOT NULL,\\n    CustomerName TEXT NOT NULL,\\n    Email TEXT NULL,\\n    Phone TEXT NULL,\\n    BillingAddress1 TEXT NULL,\\n    BillingCity TEXT NULL,\\n    BillingCountry TEXT NULL,\\n    CreatedAt DATETIME NOT NULL DEFAULT (datetime(\\'now\\')),\\n    UpdatedAt DATETIME NULL,\\n    IsActive BOOLEAN NOT NULL DEFAULT 1\\n)\\nCREATE TABLE sqlite_sequence(name,seq)\\nCREATE TABLE Vendors (\\n    VendorId INTEGER PRIMARY KEY AUTOINCREMENT,\\n    VendorCode VARCHAR(50) UNIQUE NOT NULL,\\n    VendorName TEXT NOT NULL,\\n    Email TEXT NULL,\\n    Phone TEXT NULL,\\n    AddressLine1 TEXT NULL,\\n    City TEXT NULL,\\n    Country TEXT NULL,\\n    CreatedAt DATETIME NOT NULL DEFAULT (datetime(\\'now\\')),\\n    UpdatedAt DATETIME NULL,\\n    IsActive BOOLEAN NOT NULL DEFAULT 1\\n)\\nCREATE TABLE Sites (\\n    SiteId INTEGER PRIMARY KEY AUTOINCREMENT,\\n    SiteCode VARCHAR(50) UNIQUE NOT NULL,\\n    SiteName TEXT NOT NULL,\\n    AddressLine1 TEXT NULL,\\n    City TEXT NULL,\\n    Country TEXT NULL,\\n    TimeZone TEXT NULL,\\n    CreatedAt DATETIME NOT NULL DEFAULT (datetime(\\'now\\')),\\n    UpdatedAt DATETIME NULL,\\n    IsActive BOOLEAN NOT NULL DEFAULT 1\\n)\\nCREATE TABLE Locations (\\n    LocationId INTEGER PRIMARY KEY AUTOINCREMENT,\\n    SiteId INTEGER NOT NULL,\\n    LocationCode VARCHAR(50) NOT NULL,\\n    LocationName TEXT NOT NULL,\\n    ParentLocationId INTEGER NULL,\\n    CreatedAt DATETIME NOT NULL DEFAULT (datetime(\\'now\\')),\\n    UpdatedAt DATETIME NULL,\\n    IsActive BOOLEAN NOT NULL DEFAULT 1,\\n    UNIQUE (SiteId, LocationCode),\\n    FOREIGN KEY (SiteId) REFERENCES Sites(SiteId),\\n    FOREIGN KEY (ParentLocationId) REFERENCES Locations(LocationId)\\n)\\nCREATE TABLE Items (\\n    ItemId INTEGER PRIMARY KEY AUTOINCREMENT,\\n    ItemCode TEXT UNIQUE NOT NULL,\\n    ItemName TEXT NOT NULL,\\n    Category TEXT NULL,\\n    UnitOfMeasure TEXT NULL,\\n    CreatedAt DATETIME NOT NULL DEFAULT (datetime(\\'now\\')),\\n    UpdatedAt DATETIME NULL,\\n    IsActive BOOLEAN NOT NULL DEFAULT 1\\n)\\nCREATE TABLE Assets (\\n    AssetId INTEGER PRIMARY KEY AUTOINCREMENT,\\n    AssetTag VARCHAR(100) UNIQUE NOT NULL,\\n    AssetName TEXT NOT NULL,\\n    SiteId INTEGER NOT NULL,\\n    LocationId INTEGER NULL,\\n    SerialNumber TEXT NULL,\\n    Category TEXT NULL,\\n    Status VARCHAR(30) NOT NULL DEFAULT \\'Active\\', -- Active, InRepair, Disposed\\n    Cost DECIMAL(18,2) NULL,\\n    PurchaseDate DATE NULL,\\n    VendorId INTEGER NULL,\\n    CreatedAt DATETIME NOT NULL DEFAULT (datetime(\\'now\\')),\\n    UpdatedAt DATETIME NULL,\\n    FOREIGN KEY (SiteId) REFERENCES Sites(SiteId),\\n    FOREIGN KEY (LocationId) REFERENCES Locations(LocationId),\\n    FOREIGN KEY (VendorId) REFERENCES Vendors(VendorId)\\n)\\nCREATE TABLE Bills (\\n    BillId INTEGER PRIMARY KEY AUTOINCREMENT,\\n    VendorId INTEGER NOT NULL,\\n    BillNumber VARCHAR(100) NOT NULL,\\n    BillDate DATE NOT NULL,\\n    DueDate DATE NULL,\\n    TotalAmount DECIMAL(18,2) NOT NULL,\\n    Currency VARCHAR(10) NOT NULL DEFAULT \\'USD\\',\\n    Status VARCHAR(30) NOT NULL DEFAULT \\'Open\\', -- Open, Paid, Void\\n    CreatedAt DATETIME NOT NULL DEFAULT (datetime(\\'now\\')),\\n    UpdatedAt DATETIME NULL,\\n    UNIQUE (VendorId, BillNumber),\\n    FOREIGN KEY (VendorId) REFERENCES Vendors(VendorId)\\n)\\nCREATE TABLE PurchaseOrders (\\n    POId INTEGER PRIMARY KEY AUTOINCREMENT,\\n    PONumber VARCHAR(100) NOT NULL,\\n    VendorId INTEGER NOT NULL,\\n    PODate DATE NOT NULL,\\n    Status VARCHAR(30) NOT NULL DEFAULT \\'Open\\', -- Open, Approved, Closed, Cancelled\\n    SiteId INTEGER NULL,\\n    CreatedAt DATETIME NOT NULL DEFAULT (datetime(\\'now\\')),\\n    UpdatedAt DATETIME NULL,\\n    UNIQUE (PONumber),\\n    FOREIGN KEY (VendorId) REFERENCES Vendors(VendorId),\\n    FOREIGN KEY (SiteId) REFERENCES Sites(SiteId)\\n)\\nCREATE TABLE PurchaseOrderLines (\\n    POLineId INTEGER PRIMARY KEY AUTOINCREMENT,\\n    POId INTEGER NOT NULL,\\n    LineNumber INTEGER NOT NULL,\\n    ItemId INTEGER NULL,\\n    ItemCode TEXT NOT NULL,\\n    Description TEXT NULL,\\n    Quantity DECIMAL(18,4) NOT NULL,\\n    UnitPrice DECIMAL(18,4) NOT NULL,\\n    UNIQUE (POId, LineNumber),\\n    FOREIGN KEY (POId) REFERENCES PurchaseOrders(POId),\\n    FOREIGN KEY (ItemId) REFERENCES Items(ItemId)\\n)\\nCREATE TABLE SalesOrders (\\n    SOId INTEGER PRIMARY KEY AUTOINCREMENT,\\n    SONumber VARCHAR(100) NOT NULL,\\n    CustomerId INTEGER NOT NULL,\\n    SODate DATE NOT NULL,\\n    Status VARCHAR(30) NOT NULL DEFAULT \\'Open\\', -- Open, Shipped, Closed, Cancelled\\n    SiteId INTEGER NULL,\\n    CreatedAt DATETIME NOT NULL DEFAULT (datetime(\\'now\\')),\\n    UpdatedAt DATETIME NULL,\\n    UNIQUE (SONumber),\\n    FOREIGN KEY (CustomerId) REFERENCES Customers(CustomerId),\\n    FOREIGN KEY (SiteId) REFERENCES Sites(SiteId)\\n)\\nCREATE TABLE SalesOrderLines (\\n    SOLineId INTEGER PRIMARY KEY AUTOINCREMENT,\\n    SOId INTEGER NOT NULL,\\n    LineNumber INTEGER NOT NULL,\\n    ItemId INTEGER NULL,\\n    ItemCode TEXT NOT NULL,\\n    Description TEXT NULL,\\n    Quantity DECIMAL(18,4) NOT NULL,\\n    UnitPrice DECIMAL(18,4) NOT NULL,\\n    UNIQUE (SOId, LineNumber),\\n    FOREIGN KEY (SOId) REFERENCES SalesOrders(SOId),\\n    FOREIGN KEY (ItemId) REFERENCES Items(ItemId)\\n)\\nCREATE TABLE AssetTransactions (\\n    AssetTxnId INTEGER PRIMARY KEY AUTOINCREMENT,\\n    AssetId INTEGER NOT NULL,\\n    FromLocationId INTEGER NULL,\\n    ToLocationId INTEGER NULL,\\n    TxnType VARCHAR(30) NOT NULL, -- Move, Adjust, Dispose, Create\\n    Quantity INTEGER NOT NULL DEFAULT 1,\\n    TxnDate DATETIME NOT NULL DEFAULT (datetime(\\'now\\')),\\n    Note TEXT NULL,\\n    FOREIGN KEY (AssetId) REFERENCES Assets(AssetId),\\n    FOREIGN KEY (FromLocationId) REFERENCES Locations(LocationId),\\n    FOREIGN KEY (ToLocationId) REFERENCES Locations(LocationId)\\n)\\n\\n---\\n\\nGUIDELINES:\\n------------\\nThe rows should be fetched with \\\\\\nan intent to be helpful in terms of \\\\\\ncontext and in terms of displayability \\\\\\nmeaning:\\n* The SQLite query should take \\\\\\ninto account the domain knowledge \\\\\\nassociated with the dataset not just \\\\\\ntransliteration of the user query at \\\\\\nface value.\\n* The SQLite output should be prepared \\\\\\nwithin the SQLite query to be well \\\\\\nformatted for direct display \\\\\\nand optimal expressiveness.\\n\\n---\\n\\nOUTPUT FORMAT:\\n---------------\\nThe output MUST be a JSON list of two \\\\\\nitems:\\n* Answer: Natural language response\\n* SQL: SQLite query\\n\\n---\\n\\nEXAMPLE:\\n---------\\nUser Query: How many assets by site?\\n-\\n```json\\n{\\n    \"Answer\": \"Here\\'s the asset count by site.\", \\n    \"SQL\": \"SELECT s.SiteName, COUNT(*) AS AssetCount\\\\nFROM Assets a\\\\nJOIN Sites s\\\\nON s.SiteId = a.SiteId\\\\nWHERE a.Status <> \\'Disposed\\'\\\\nGROUP BY s.SiteName\\\\nORDER BY AssetCount DESC;\"\\n}\\n```\\n'},\n",
       " {'role': 'user',\n",
       "  'content': 'What is the total billed amount for the last quarter?'},\n",
       " {'role': 'system',\n",
       "  'content': '```json\\n{\\n    \"Answer\": \"The total billed amount for the last quarter has been calculated.\",\\n    \"SQL\": \"SELECT SUM(TotalAmount) AS TotalBilledAmount\\\\nFROM Bills\\\\nWHERE BillDate >= DATE(\\'now\\', \\'start of quarter\\', \\'-3 months\\') AND BillDate < DATE(\\'now\\', \\'start of quarter\\');\"\\n}\\n```'},\n",
       " {'role': 'user', 'content': 'Which vendor supplied the most assets?'},\n",
       " {'role': 'system',\n",
       "  'content': '```json\\n{\\n    \"Answer\": \"Here are the vendors sorted by the number of assets they supplied.\",\\n    \"SQL\": \"SELECT v.VendorName, COUNT(a.AssetId) AS AssetCount\\\\nFROM Vendors v\\\\nJOIN Assets a ON v.VendorId = a.VendorId\\\\nWHERE a.Status <> \\'Disposed\\'\\\\nGROUP BY v.VendorId, v.VendorName\\\\nORDER BY AssetCount DESC;\"\\n}\\n```'}]"
      ]
     },
     "execution_count": 9,
     "metadata": {},
     "output_type": "execute_result"
    }
   ],
   "source": [
    "chatbot.chat_history"
   ]
  },
  {
   "cell_type": "code",
   "execution_count": 6,
   "id": "4cd1b461-8f9b-48a8-9de2-b529bb8864e9",
   "metadata": {},
   "outputs": [],
   "source": [
    "# from http.server import HTTPServer, BaseHTTPRequestHandler\n",
    "# import json\n",
    "# from urllib.parse import urlparse, parse_qs\n",
    "\n",
    "# class Server(BaseHTTPRequestHandler):\n",
    "#     def __init__(self, db_filepath):"
   ]
  }
 ],
 "metadata": {
  "kernelspec": {
   "display_name": "Python 3 (ipykernel)",
   "language": "python",
   "name": "python3"
  },
  "language_info": {
   "codemirror_mode": {
    "name": "ipython",
    "version": 3
   },
   "file_extension": ".py",
   "mimetype": "text/x-python",
   "name": "python",
   "nbconvert_exporter": "python",
   "pygments_lexer": "ipython3",
   "version": "3.13.7"
  }
 },
 "nbformat": 4,
 "nbformat_minor": 5
}
