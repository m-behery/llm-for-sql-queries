{
 "cells": [
  {
   "cell_type": "code",
   "execution_count": 1,
   "id": "2f4abdf6-cfdc-4c34-8e9a-83dfc2e81fd8",
   "metadata": {},
   "outputs": [
    {
     "name": "stdout",
     "output_type": "stream",
     "text": [
      "Downloading from https://www.kaggle.com/api/v1/datasets/download/gastonsaracusti/model-car-mint-classics?dataset_version_number=2...\n",
      "100%|███████████████████████████████████████| 26.0k/26.0k [00:00<00:00, 505kB/s]\n",
      "Extracting files...\n",
      "\n",
      "Dataset downloaded to:\n",
      "\"/home/mohamed/.cache/kagglehub/datasets/gastonsaracusti/model-car-mint-classics/versions/2\"\n",
      "\n",
      "Dataset moved to:\n",
      "\"/home/mohamed/Projects/llm-for-sql-queries/data/gastonsaracusti/model-car-mint-classics\"\n",
      "\n",
      "Database File:\n",
      "\"/home/mohamed/Projects/llm-for-sql-queries/data/gastonsaracusti/model-car-mint-classics/data.sqlite\"\n",
      "\n",
      "Process exited normally!\n"
     ]
    }
   ],
   "source": [
    "# Example SQLite dataset downloaded externally --BONUS for demonstrating system flexibility with undetermined schemas\n",
    "!python kaggle_database_downloader.py \"gastonsaracusti/model-car-mint-classics\""
   ]
  },
  {
   "cell_type": "code",
   "execution_count": 2,
   "id": "ffab11cd-3343-45e8-8454-1c4bdaa14f92",
   "metadata": {},
   "outputs": [
    {
     "name": "stdout",
     "output_type": "stream",
     "text": [
      "Database created successfully!\n",
      "\n",
      "Database File:\n",
      "/home/mohamed/Projects/llm-for-sql-queries/data/aayman/asap-database-template/data.sqlite\n",
      "\n",
      "Process exited normally!\n"
     ]
    }
   ],
   "source": [
    "# Database creator through the template given by ASAP Systems for Barcloud\n",
    "!python asap_database_creator.py \"aayman/asap-database-template\" \"./sql_scripts/script.sql\""
   ]
  },
  {
   "cell_type": "code",
   "execution_count": 3,
   "id": "737eb529-9b3a-406e-9527-396c02b2138e",
   "metadata": {},
   "outputs": [
    {
     "name": "stdout",
     "output_type": "stream",
     "text": [
      "Local Address:\thttp://192.168.1.7:8000\n",
      "Public Address:\thttps://5913145be303.ngrok-free.app\n",
      "\n",
      "192.168.1.7 - - [03/Oct/2025 15:42:21] \"GET / HTTP/1.1\" 200 -\n",
      "192.168.1.7 - - [03/Oct/2025 15:42:21] \"GET /style.css HTTP/1.1\" 200 -\n",
      "192.168.1.7 - - [03/Oct/2025 15:42:21] \"GET /script.js HTTP/1.1\" 200 -\n",
      "ERROR:root:Fatal Error.\n",
      "Kindly check the error logs for traceback details.\n",
      "Traceback (most recent call last):\n",
      "  File \"/home/mohamed/Projects/llm-for-sql-queries/chatbots.py\", line 129, in _flush\n",
      "    response.raise_for_status()\n",
      "    ~~~~~~~~~~~~~~~~~~~~~~~~~^^\n",
      "  File \"/home/mohamed/venvs/chatbot/lib/python3.13/site-packages/requests/models.py\", line 1026, in raise_for_status\n",
      "    raise HTTPError(http_error_msg, response=self)\n",
      "requests.exceptions.HTTPError: 429 Client Error: Too Many Requests for url: https://api.openai.com/v1/chat/completions\n",
      "192.168.1.7 - - [03/Oct/2025 15:42:29] \"POST /api/chat HTTP/1.1\" 200 -\n",
      "^C\n",
      "Keyboard interrupt received.\n",
      "Server stopping...\n",
      "\n",
      "Process exited normally!\n"
     ]
    }
   ],
   "source": [
    "!python main.py \"/home/mohamed/Projects/llm-for-sql-queries/data/aayman/asap-database-template/data.sqlite\""
   ]
  },
  {
   "cell_type": "code",
   "execution_count": null,
   "id": "64ca9c98-4db7-4f28-acd4-6ad9b7075801",
   "metadata": {},
   "outputs": [],
   "source": []
  }
 ],
 "metadata": {
  "kernelspec": {
   "display_name": "Python 3 (ipykernel)",
   "language": "python",
   "name": "python3"
  },
  "language_info": {
   "codemirror_mode": {
    "name": "ipython",
    "version": 3
   },
   "file_extension": ".py",
   "mimetype": "text/x-python",
   "name": "python",
   "nbconvert_exporter": "python",
   "pygments_lexer": "ipython3",
   "version": "3.13.7"
  }
 },
 "nbformat": 4,
 "nbformat_minor": 5
}
