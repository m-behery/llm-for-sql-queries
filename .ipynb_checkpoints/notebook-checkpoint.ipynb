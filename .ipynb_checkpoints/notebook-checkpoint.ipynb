{
 "cells": [
  {
   "cell_type": "code",
   "execution_count": 1,
   "id": "2f4abdf6-cfdc-4c34-8e9a-83dfc2e81fd8",
   "metadata": {},
   "outputs": [
    {
     "name": "stdout",
     "output_type": "stream",
     "text": [
      "Downloading from https://www.kaggle.com/api/v1/datasets/download/gastonsaracusti/model-car-mint-classics?dataset_version_number=2...\n",
      "100%|███████████████████████████████████████| 26.0k/26.0k [00:00<00:00, 399kB/s]\n",
      "Extracting files...\n",
      "\n",
      "Dataset downloaded to:\n",
      "\"/home/mohamed/.cache/kagglehub/datasets/gastonsaracusti/model-car-mint-classics/versions/2\"\n",
      "\n",
      "Dataset moved to:\n",
      "\"/home/mohamed/Projects/llm-for-sql-queries/data/gastonsaracusti/model-car-mint-classics\"\n",
      "\n",
      "Database File:\n",
      "\"/home/mohamed/Projects/llm-for-sql-queries/data/gastonsaracusti/model-car-mint-classics/data.sqlite\"\n",
      "\n",
      "Process exited with status code: 0\n"
     ]
    }
   ],
   "source": [
    "# Example SQLite dataset downloaded externally --BONUS for demonstrating system flexibility with undetermined schemas\n",
    "!python kaggle_database_downloader.py \"gastonsaracusti/model-car-mint-classics\""
   ]
  },
  {
   "cell_type": "code",
   "execution_count": 2,
   "id": "ffab11cd-3343-45e8-8454-1c4bdaa14f92",
   "metadata": {},
   "outputs": [
    {
     "name": "stdout",
     "output_type": "stream",
     "text": [
      "Database created successfully!\n",
      "\n",
      "Database File:\n",
      "/home/mohamed/Projects/llm-for-sql-queries/data/aayman/asap-database-template/data.sqlite\n"
     ]
    }
   ],
   "source": [
    "# Database creator through the template given by ASAP Systems for Barcloud\n",
    "!python asap_database_creator.py \"aayman/asap-database-template\" \"./script.sql\""
   ]
  },
  {
   "cell_type": "code",
   "execution_count": 3,
   "id": "d83b07c6-3960-43d2-83c6-468e89321e32",
   "metadata": {},
   "outputs": [],
   "source": [
    "from http.server import HTTPServer, BaseHTTPRequestHandler\n",
    "import sqlite3\n",
    "import keyring\n",
    "from string import Template\n",
    "import os\n",
    "import logging\n",
    "import re\n",
    "import json\n",
    "import requests\n",
    "\n",
    "from utils import Timer, read_task_template\n",
    "from chatbots import OpenAIChatBot\n",
    "from constants import OPENAI_API_KEY, MODEL_NAME, DB_FILEPATH"
   ]
  },
  {
   "cell_type": "code",
   "execution_count": 4,
   "id": "737eb529-9b3a-406e-9527-396c02b2138e",
   "metadata": {},
   "outputs": [
    {
     "data": {
      "text/plain": [
       "{'SQL': \"SELECT SUM(TotalAmount) as TotalBilled FROM Bills WHERE BillDate >= date('now', 'start of quarter', '-1 quarter') AND BillDate < date('now', 'start of quarter')\",\n",
       " 'token_usage': {'prompt_tokens': 3835,\n",
       "  'completion_tokens': 128,\n",
       "  'total_tokens': 3963},\n",
       " 'model': 'gpt-4o-mini-2024-07-18',\n",
       " 'latency_ms': 6537,\n",
       " 'status': 'ok',\n",
       " 'Answer': \"The query aimed to calculate the total billed amount for the last quarter. However, it returned 'None', indicating that there were no bills recorded in the Bills table for the specified date range. This could suggest either a lack of transactions or that the records for the last quarter have not yet been entered into the database.\"}"
      ]
     },
     "execution_count": 4,
     "metadata": {},
     "output_type": "execute_result"
    }
   ],
   "source": [
    "chatbot = OpenAIChatBot(\n",
    "    api_key    = OPENAI_API_KEY,\n",
    "    model      = MODEL_NAME,\n",
    "    db_filepath = DB_FILEPATH,\n",
    ")\n",
    "\n",
    "response_details = chatbot.send('What is the total billed amount for the last quarter?')\n",
    "response_details"
   ]
  },
  {
   "cell_type": "code",
   "execution_count": null,
   "id": "edabab8a-5805-4b30-be66-4f872db22dde",
   "metadata": {},
   "outputs": [],
   "source": [
    "class Service(BaseHTTPRequestHandler):\n",
    "    \n",
    "    def __init__(self, *args, chatbot, **kwargs):\n",
    "        super().__init__(*args, **kwargs)\n",
    "        self._chatbot = chatbot\n",
    "    \n",
    "    @property\n",
    "    def chatbot(self):\n",
    "        return self._chatbot\n",
    "    \n",
    "    def do_GET(self):\n",
    "        pass\n",
    "    \n",
    "    def do_POST(self):\n",
    "        pass\n",
    "    \n",
    "    def _send(self, status_code, json_payload):\n",
    "        try:\n",
    "            self.send_response(status_code)\n",
    "            self.send_header('Content-Type', 'application/json; charset=utf-8')\n",
    "            self.end_headers()\n",
    "            payload_bytes = json.dumps(json_payload, indent=4).encode('utf-8')\n",
    "            self.wfile.write(payload_bytes)\n",
    "        except:\n",
    "            logging.exception(f'Error sending response.\\nKindly check the error logs for traceback details.')\n",
    "            self.send_error(500, 'Internal server error')\n",
    "            \n",
    "    def _receive(self):\n",
    "        try:\n",
    "            content_length = int(self.headers.get('Content-Length', 0))\n",
    "            if content_length == 0:\n",
    "                return None\n",
    "            payload_bytes = self.rfile.read(content_length)\n",
    "            json_payload = json.loads(payload_bytes.decode('utf-8'))\n",
    "            return json_payload\n",
    "        except json.JSONDecodeError:\n",
    "            message = 'Invalid JSON payload.'\n",
    "            logging.exception(f'{message}\\nKindly check the error logs for traceback details.')\n",
    "            self._send(400, {'error': message})\n",
    "        except:\n",
    "            message = 'Error processing request.'\n",
    "            logging.exception(f'{message}\\nKindly check the error logs for traceback details.')\n",
    "            self._send(400, {'error': message})\n",
    "        return None"
   ]
  },
  {
   "cell_type": "code",
   "execution_count": 8,
   "id": "5e4a551c-ff2e-428b-9255-cdc6f4c9b73f",
   "metadata": {},
   "outputs": [
    {
     "ename": "TypeError",
     "evalue": "BaseRequestHandler.__init__() missing 3 required positional arguments: 'request', 'client_address', and 'server'",
     "output_type": "error",
     "traceback": [
      "\u001b[0;31m---------------------------------------------------------------------------\u001b[0m",
      "\u001b[0;31mTypeError\u001b[0m                                 Traceback (most recent call last)",
      "Cell \u001b[0;32mIn[8], line 1\u001b[0m\n\u001b[0;32m----> 1\u001b[0m service \u001b[38;5;241m=\u001b[39m \u001b[43mBaseHTTPRequestHandler\u001b[49m\u001b[43m(\u001b[49m\u001b[43m)\u001b[49m\n\u001b[1;32m      2\u001b[0m service\n",
      "\u001b[0;31mTypeError\u001b[0m: BaseRequestHandler.__init__() missing 3 required positional arguments: 'request', 'client_address', and 'server'"
     ]
    }
   ],
   "source": [
    "service = BaseHTTPRequestHandler()\n",
    "service"
   ]
  },
  {
   "cell_type": "code",
   "execution_count": 6,
   "id": "2da7aaaf-d1d3-457c-8c33-97654d808543",
   "metadata": {},
   "outputs": [],
   "source": [
    "# class HttpRequestHandler(BaseHTTPRequestHandler):\n",
    "    \n",
    "#     def __init__(self, chatbot):\n",
    "#         super().__init__()\n",
    "#         self._chatbot = chatbot\n",
    "\n",
    "#     def serve_get(self):\n",
    "#         if self.path == '/api':\n",
    "#             self._send({'status': 'Server is running'}, 200)\n",
    "#         else:\n",
    "#             self._send({'error': 'Endpoint not found'}, 404)\n",
    "    \n",
    "#     def serve_post(self):\n",
    "#         if self.path == '/api/sql-chat':\n",
    "#             json_payload = self._receive()\n",
    "#             response_details = self._chatbot.send(json_payload['message'])\n",
    "#             status_code = 200 if response_details['status'] == 'ok' else 403\n",
    "#             self._send(response_details, status_code)\n",
    "#         else:\n",
    "#             self._send({'error': 'Endpoint not found'}, 404)\n",
    "    \n",
    "#     def _send(self, json_payload, status):\n",
    "#         self.send_response(status)\n",
    "#         self.send_header('Content-Type', 'application/json')\n",
    "#         self.end_headers()\n",
    "#         self.wfile.write(json.dumps(json_payload, indent=4).encode())\n",
    "    \n",
    "#     def _receive(self):\n",
    "#         content_length = int(self.headers.get('Content-Length', 0))\n",
    "#         json_payload   = json.loads(\n",
    "#             self.rfile.read(content_length).decode('utf-8')\n",
    "#         )\n",
    "#         return json_payload\n",
    "\n",
    "# server = HTTPServer(('localhost',8000), HttpRequestHandler)\n",
    "# server.serve_forever()"
   ]
  },
  {
   "cell_type": "code",
   "execution_count": 7,
   "id": "4cd1b461-8f9b-48a8-9de2-b529bb8864e9",
   "metadata": {},
   "outputs": [],
   "source": [
    "# from http.server import HTTPServer, BaseHTTPRequestHandler\n",
    "# import json\n",
    "# from urllib.parse import urlparse, parse_qs\n",
    "\n",
    "# class Server(BaseHTTPRequestHandler):\n",
    "#     def __init__(self, db_filepath):"
   ]
  }
 ],
 "metadata": {
  "kernelspec": {
   "display_name": "Python 3 (ipykernel)",
   "language": "python",
   "name": "python3"
  },
  "language_info": {
   "codemirror_mode": {
    "name": "ipython",
    "version": 3
   },
   "file_extension": ".py",
   "mimetype": "text/x-python",
   "name": "python",
   "nbconvert_exporter": "python",
   "pygments_lexer": "ipython3",
   "version": "3.13.7"
  }
 },
 "nbformat": 4,
 "nbformat_minor": 5
}
