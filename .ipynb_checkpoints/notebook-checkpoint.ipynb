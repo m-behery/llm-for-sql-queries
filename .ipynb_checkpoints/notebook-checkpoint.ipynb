{
 "cells": [
  {
   "cell_type": "code",
   "execution_count": 52,
   "id": "2f4abdf6-cfdc-4c34-8e9a-83dfc2e81fd8",
   "metadata": {},
   "outputs": [
    {
     "name": "stdout",
     "output_type": "stream",
     "text": [
      "Downloading from https://www.kaggle.com/api/v1/datasets/download/gastonsaracusti/model-car-mint-classics?dataset_version_number=2...\n"
     ]
    },
    {
     "name": "stderr",
     "output_type": "stream",
     "text": [
      "100%|████████████████████████████| 26.0k/26.0k [00:00<00:00, 385kB/s]"
     ]
    },
    {
     "name": "stdout",
     "output_type": "stream",
     "text": [
      "Extracting files...\n",
      "\n",
      "Dataset downloaded to:\n",
      "\"/home/mohamed/.cache/kagglehub/datasets/gastonsaracusti/model-car-mint-classics/versions/2\"\n",
      "\n",
      "Dataset moved to:\n",
      "\"/home/mohamed/Projects/asap-interview-assignment/data/gastonsaracusti/model-car-mint-classics\"\n",
      "\n",
      "Dataset File:\n",
      "\"/home/mohamed/Projects/asap-interview-assignment/data/gastonsaracusti/model-car-mint-classics/data.sqlite\"\n"
     ]
    },
    {
     "name": "stderr",
     "output_type": "stream",
     "text": [
      "\n"
     ]
    }
   ],
   "source": [
    "import kagglehub\n",
    "import shutil\n",
    "import os\n",
    "\n",
    "KAGGLE_HANDLE   = 'gastonsaracusti/model-car-mint-classics'\n",
    "DATASET_DIRPATH = os.path.abspath(f'./data/{KAGGLE_HANDLE}')\n",
    "DB_EXT_KEYWORDS = ('sql', 'db')\n",
    "\n",
    "if os.path.isdir(DATASET_DIRPATH):\n",
    "    shutil.rmtree(DATASET_DIRPATH)\n",
    "\n",
    "download_dirpath = kagglehub.dataset_download(\n",
    "    handle=KAGGLE_HANDLE,\n",
    ")\n",
    "print(f'\\nDataset downloaded to:\\n\"{download_dirpath}\"')\n",
    "\n",
    "shutil.move(\n",
    "    src=download_dirpath, \n",
    "    dst=DATASET_DIRPATH,\n",
    ")\n",
    "print(f'\\nDataset moved to:\\n\"{DATASET_DIRPATH}\"')\n",
    "\n",
    "def is_db(filepath, ext_keywords=DB_EXT_KEYWORDS):\n",
    "    if os.path.isfile(filepath):\n",
    "        ext = os.path.splitext(filepath)[-1]\n",
    "        return any(x.lower().strip() in ext.lower().strip() for x in ext_keywords)\n",
    "    return False\n",
    "\n",
    "def find_db_filepath(dirpath, ext_keywords=DB_EXT_KEYWORDS):\n",
    "    for name in os.listdir(DATASET_DIRPATH):\n",
    "        path = os.path.join(DATASET_DIRPATH, name)\n",
    "        if is_db(path, ext_keywords):\n",
    "            return path\n",
    "    raise FileNotFoundError('Database file not found given the following extension keywords {\"sql\", \"db\"}...')\n",
    "\n",
    "DB_FILEPATH = find_db_filepath(DATASET_DIRPATH)\n",
    "print(f'\\nDataset File:\\n\"{DB_FILEPATH}\"')"
   ]
  },
  {
   "cell_type": "code",
   "execution_count": 53,
   "id": "7c3c0d3c-920e-4cfd-bdfb-77eba4ae7751",
   "metadata": {},
   "outputs": [
    {
     "name": "stdout",
     "output_type": "stream",
     "text": [
      "CREATE TABLE `orders` (`orderNumber`, `orderDate`, `requiredDate`, `shippedDate`, `status`, `comments`, `customerNumber`)\n",
      "CREATE TABLE `offices` (`officeCode`, `city`, `phone`, `addressLine1`, `addressLine2`, `state`, `country`, `postalCode`, `territory`)\n",
      "CREATE TABLE `productlines` (`productLine`, `textDescription`, `htmlDescription`, `image`)\n",
      "CREATE TABLE `orderdetails` (`orderNumber`, `productCode`, `quantityOrdered`, `priceEach`, `orderLineNumber`)\n",
      "CREATE TABLE `customers` (`customerNumber`, `customerName`, `contactLastName`, `contactFirstName`, `phone`, `addressLine1`, `addressLine2`, `city`, `state`, `postalCode`, `country`, `salesRepEmployeeNumber`, `creditLimit`)\n",
      "CREATE TABLE `warehouses` (`warehouseCode`, `warehouseName`, `warehousePctCap`)\n",
      "CREATE TABLE `products` (`productCode`, `productName`, `productLine`, `productScale`, `productVendor`, `productDescription`, `quantityInStock`, `warehouseCode`, `buyPrice`, `MSRP`)\n",
      "CREATE TABLE `payments` (`customerNumber`, `checkNumber`, `paymentDate`, `amount`)\n",
      "CREATE TABLE `employees` (`employeeNumber`, `lastName`, `firstName`, `extension`, `email`, `officeCode`, `reportsTo`, `jobTitle`)\n"
     ]
    }
   ],
   "source": [
    "import sqlite3\n",
    "\n",
    "def get_sqlite_schema(db_filepath):\n",
    "    with sqlite3.connect(DB_FILEPATH) as conn:\n",
    "        cursor = conn.cursor()\n",
    "        cursor.execute('SELECT sql FROM sqlite_master WHERE type=\"table\";')\n",
    "        rows = cursor.fetchall()\n",
    "    create_table_cmds = list(zip(*rows))[0]\n",
    "    db_schema = '\\n'.join(create_table_cmds)\n",
    "    return db_schema\n",
    "    \n",
    "db_schema = get_sqlite_schema(DB_FILEPATH)\n",
    "print(db_schema)"
   ]
  },
  {
   "cell_type": "code",
   "execution_count": 13,
   "id": "bac2ebba-48cf-4949-a13b-340e7bac6653",
   "metadata": {},
   "outputs": [],
   "source": [
    "import keyring\n",
    "from openai import OpenAI\n",
    "\n",
    "openai = OpenAI(\n",
    "    api_key = keyring.get_password('openai', 'default')\n",
    ")\n",
    "\n",
    "messages = []\n",
    "\n",
    "response = openai.chat.completions.create"
   ]
  },
  {
   "cell_type": "code",
   "execution_count": 16,
   "id": "f2851117-a044-469c-a37a-d81a3492cddf",
   "metadata": {},
   "outputs": [
    {
     "data": {
      "text/plain": [
       "Response(id='resp_06f4ad5fab80dda00168dd40c3c07c819588ea3aa54ffe623b', created_at=1759330500.0, error=None, incomplete_details=None, instructions=None, metadata={}, model='gpt-4o-mini-2024-07-18', object='response', output=[ResponseOutputMessage(id='msg_06f4ad5fab80dda00168dd40c4c3988195a30e39a7dd93bdad', content=[ResponseOutputText(annotations=[], text=\"Hello! I'm doing well, thanks for asking. How about you?\", type='output_text', logprobs=[])], role='assistant', status='completed', type='message')], parallel_tool_calls=True, temperature=1.0, tool_choice='auto', tools=[], top_p=1.0, background=False, max_output_tokens=None, max_tool_calls=None, previous_response_id=None, prompt=None, prompt_cache_key=None, reasoning=Reasoning(effort=None, generate_summary=None, summary=None), safety_identifier=None, service_tier='default', status='completed', text=ResponseTextConfig(format=ResponseFormatText(type='text'), verbosity='medium'), top_logprobs=0, truncation='disabled', usage=ResponseUsage(input_tokens=13, input_tokens_details=InputTokensDetails(cached_tokens=0), output_tokens=15, output_tokens_details=OutputTokensDetails(reasoning_tokens=0), total_tokens=28), user=None, billing={'payer': 'developer'}, store=False)"
      ]
     },
     "execution_count": 16,
     "metadata": {},
     "output_type": "execute_result"
    }
   ],
   "source": [
    "response"
   ]
  },
  {
   "cell_type": "code",
   "execution_count": 19,
   "id": "934f3222-51b2-4c02-aefc-e0828d11db5c",
   "metadata": {},
   "outputs": [
    {
     "data": {
      "text/plain": [
       "(28, 13, 15)"
      ]
     },
     "execution_count": 19,
     "metadata": {},
     "output_type": "execute_result"
    }
   ],
   "source": [
    "response.usage.total_tokens, response.usage.input_tokens, response.usage.output_tokens"
   ]
  },
  {
   "cell_type": "code",
   "execution_count": 12,
   "id": "ae1a2571-91f5-4cdf-b42e-0fd8d6e4e18c",
   "metadata": {},
   "outputs": [
    {
     "ename": "NameError",
     "evalue": "name 'response' is not defined",
     "output_type": "error",
     "traceback": [
      "\u001b[0;31m---------------------------------------------------------------------------\u001b[0m",
      "\u001b[0;31mNameError\u001b[0m                                 Traceback (most recent call last)",
      "Cell \u001b[0;32mIn[12], line 1\u001b[0m\n\u001b[0;32m----> 1\u001b[0m \u001b[43mresponse\u001b[49m\u001b[38;5;241m.\u001b[39moutput_text\n",
      "\u001b[0;31mNameError\u001b[0m: name 'response' is not defined"
     ]
    }
   ],
   "source": [
    "response.output_text"
   ]
  }
 ],
 "metadata": {
  "kernelspec": {
   "display_name": "Python 3 (ipykernel)",
   "language": "python",
   "name": "python3"
  },
  "language_info": {
   "codemirror_mode": {
    "name": "ipython",
    "version": 3
   },
   "file_extension": ".py",
   "mimetype": "text/x-python",
   "name": "python",
   "nbconvert_exporter": "python",
   "pygments_lexer": "ipython3",
   "version": "3.13.7"
  }
 },
 "nbformat": 4,
 "nbformat_minor": 5
}
