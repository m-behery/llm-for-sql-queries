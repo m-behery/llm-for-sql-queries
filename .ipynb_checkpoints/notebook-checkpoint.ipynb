{
 "cells": [
  {
   "cell_type": "code",
   "execution_count": 1,
   "id": "2f4abdf6-cfdc-4c34-8e9a-83dfc2e81fd8",
   "metadata": {},
   "outputs": [
    {
     "name": "stdout",
     "output_type": "stream",
     "text": [
      "Downloading from https://www.kaggle.com/api/v1/datasets/download/gastonsaracusti/model-car-mint-classics?dataset_version_number=2...\n",
      "100%|███████████████████████████████████████| 26.0k/26.0k [00:00<00:00, 401kB/s]\n",
      "Extracting files...\n",
      "\n",
      "Dataset downloaded to:\n",
      "\"/home/mohamed/.cache/kagglehub/datasets/gastonsaracusti/model-car-mint-classics/versions/2\"\n",
      "\n",
      "Dataset moved to:\n",
      "\"/home/mohamed/Projects/llm-for-sql-queries/data/gastonsaracusti/model-car-mint-classics\"\n",
      "\n",
      "Database File:\n",
      "\"/home/mohamed/Projects/llm-for-sql-queries/data/gastonsaracusti/model-car-mint-classics/data.sqlite\"\n",
      "\n",
      "Process exited with status code: 0\n"
     ]
    }
   ],
   "source": [
    "# Example SQLite dataset downloaded externally --BONUS for demonstrating system flexibility with undetermined schemas\n",
    "!python kaggle_database_downloader.py \"gastonsaracusti/model-car-mint-classics\""
   ]
  },
  {
   "cell_type": "code",
   "execution_count": 2,
   "id": "ffab11cd-3343-45e8-8454-1c4bdaa14f92",
   "metadata": {},
   "outputs": [
    {
     "name": "stdout",
     "output_type": "stream",
     "text": [
      "Database created successfully!\n",
      "\n",
      "Database File:\n",
      "/home/mohamed/Projects/llm-for-sql-queries/data/aayman/asap-database-template/data.sqlite\n"
     ]
    }
   ],
   "source": [
    "# Database creator through the template given by ASAP Systems for Barcloud\n",
    "!python asap_database_creator.py \"aayman/asap-database-template\" \"./script.sql\""
   ]
  },
  {
   "cell_type": "code",
   "execution_count": 3,
   "id": "d83b07c6-3960-43d2-83c6-468e89321e32",
   "metadata": {},
   "outputs": [],
   "source": [
    "from http.server import HTTPServer, BaseHTTPRequestHandler\n",
    "import sqlite3\n",
    "import keyring\n",
    "from string import Template\n",
    "import os\n",
    "import logging\n",
    "import re\n",
    "import json\n",
    "import requests\n",
    "\n",
    "from utils import Timer, read_task_template\n",
    "from chatbots import OpenAIChatBot\n",
    "from constants import OPENAI_API_KEY, MODEL_NAME, DB_FILEPATH"
   ]
  },
  {
   "cell_type": "code",
   "execution_count": 4,
   "id": "737eb529-9b3a-406e-9527-396c02b2138e",
   "metadata": {},
   "outputs": [
    {
     "data": {
      "text/plain": [
       "{'Answer': 'The total billed amount for the last quarter has been calculated.',\n",
       " 'SQL': \"SELECT SUM(TotalAmount) AS TotalBilledAmount\\nFROM Bills\\nWHERE BillDate >= date('now', 'start of month', '-3 months')\\nAND BillDate < date('now', 'start of month');\",\n",
       " 'token_usage': {'prompt_tokens': 1624,\n",
       "  'completion_tokens': 76,\n",
       "  'total_tokens': 1700},\n",
       " 'model': 'gpt-4o-mini-2024-07-18',\n",
       " 'latency_ms': 2449,\n",
       " 'status': 'ok'}"
      ]
     },
     "execution_count": 4,
     "metadata": {},
     "output_type": "execute_result"
    }
   ],
   "source": [
    "chatbot = OpenAIChatBot(\n",
    "    api_key    = OPENAI_API_KEY,\n",
    "    model      = MODEL_NAME,\n",
    "    db_filepath = DB_FILEPATH,\n",
    ")\n",
    "\n",
    "response_details = chatbot.send('What is the total billed amount for the last quarter?')\n",
    "response_details"
   ]
  },
  {
   "cell_type": "code",
   "execution_count": null,
   "id": "2da7aaaf-d1d3-457c-8c33-97654d808543",
   "metadata": {},
   "outputs": [],
   "source": [
    "class HttpRequestHandler(BaseHTTPRequestHandler):\n",
    "    \n",
    "    def __init__(self, chatbot):\n",
    "        super().__init__()\n",
    "        self._chatbot = chatbot\n",
    "\n",
    "    def serve_get(self):\n",
    "        if self.path == '/api':\n",
    "            self._send({'status': 'Server is running'}, 200)\n",
    "        else:\n",
    "            self._send({'error': 'Endpoint not found'}, 404)\n",
    "    \n",
    "    def serve_post(self):\n",
    "        if self.path == '/api/sql-chat':\n",
    "            json_payload = self._receive()\n",
    "            response_details = self._chatbot.send(json_payload['message'])\n",
    "            status_code = 200 if response_details['status'] == 'ok' else 403\n",
    "            self._send(response_details, status_code)\n",
    "        else:\n",
    "            self._send({'error': 'Endpoint not found'}, 404)\n",
    "    \n",
    "    def _send(self, json_payload, status):\n",
    "        self.send_response(status)\n",
    "        self.send_header('Content-Type', 'application/json')\n",
    "        self.end_headers()\n",
    "        self.wfile.write(json.dumps(json_payload, indent=4).encode())\n",
    "    \n",
    "    def _receive(self):\n",
    "        content_length = int(self.headers.get('Content-Length', 0))\n",
    "        json_payload   = json.loads(\n",
    "            self.rfile.read(content_length).decode('utf-8')\n",
    "        )\n",
    "        return json_payload\n",
    "\n",
    "server = HTTPServer(('localhost',8000), HttpRequestHandler)\n",
    "server.serve_forever()"
   ]
  },
  {
   "cell_type": "code",
   "execution_count": null,
   "id": "4cd1b461-8f9b-48a8-9de2-b529bb8864e9",
   "metadata": {},
   "outputs": [],
   "source": [
    "# from http.server import HTTPServer, BaseHTTPRequestHandler\n",
    "# import json\n",
    "# from urllib.parse import urlparse, parse_qs\n",
    "\n",
    "# class Server(BaseHTTPRequestHandler):\n",
    "#     def __init__(self, db_filepath):"
   ]
  }
 ],
 "metadata": {
  "kernelspec": {
   "display_name": "Python 3 (ipykernel)",
   "language": "python",
   "name": "python3"
  },
  "language_info": {
   "codemirror_mode": {
    "name": "ipython",
    "version": 3
   },
   "file_extension": ".py",
   "mimetype": "text/x-python",
   "name": "python",
   "nbconvert_exporter": "python",
   "pygments_lexer": "ipython3",
   "version": "3.13.7"
  }
 },
 "nbformat": 4,
 "nbformat_minor": 5
}
